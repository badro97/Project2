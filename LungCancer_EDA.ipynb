{
  "nbformat": 4,
  "nbformat_minor": 0,
  "metadata": {
    "colab": {
      "private_outputs": true,
      "provenance": []
    },
    "kernelspec": {
      "name": "python3",
      "display_name": "Python 3"
    },
    "language_info": {
      "name": "python"
    }
  },
  "cells": [
    {
      "cell_type": "code",
      "source": [
        "!pip install category_encoders"
      ],
      "metadata": {
        "id": "MCdkb_MF8T2q"
      },
      "execution_count": null,
      "outputs": []
    },
    {
      "cell_type": "code",
      "execution_count": null,
      "metadata": {
        "id": "wh70erVDX7ug"
      },
      "outputs": [],
      "source": [
        "import pandas as pd\n",
        "import numpy as np\n",
        "import matplotlib.pyplot as plt\n",
        "import seaborn as sns\n",
        "import sklearn\n",
        "from sklearn.pipeline import make_pipeline, Pipeline\n",
        "from sklearn.model_selection import RandomizedSearchCV\n",
        "from sklearn.metrics import f1_score\n",
        "from xgboost import XGBClassifier\n",
        "from sklearn.model_selection import train_test_split\n",
        "from category_encoders import OrdinalEncoder\n",
        "from sklearn.impute import SimpleImputer\n",
        "from sklearn.ensemble import RandomForestClassifier\n",
        "from sklearn.tree import DecisionTreeClassifier\n",
        "from sklearn.linear_model import LogisticRegression\n",
        "from sklearn.linear_model import LogisticRegressionCV\n",
        "from sklearn.compose import make_column_selector\n",
        "from sklearn.compose import make_column_transformer\n",
        "from sklearn.inspection import permutation_importance\n",
        "from sklearn.metrics import accuracy_score\n",
        "from sklearn.metrics import f1_score\n",
        "from sklearn.metrics import recall_score\n",
        "from yellowbrick.model_selection import feature_importances\n",
        "from yellowbrick.features import pca_decomposition\n",
        "from yellowbrick.target import class_balance\n",
        "from yellowbrick.target.feature_correlation import feature_correlation\n",
        "import warnings\n",
        "warnings.filterwarnings('ignore')\n",
        "%matplotlib inline"
      ]
    },
    {
      "cell_type": "code",
      "source": [
        "data = pd.read_csv('cancer patient data sets.csv')\n",
        "data.info()"
      ],
      "metadata": {
        "id": "aKNcyedSYKD0"
      },
      "execution_count": null,
      "outputs": []
    },
    {
      "cell_type": "code",
      "source": [
        "display(data.describe().T)"
      ],
      "metadata": {
        "id": "Cuc5SKp0bLj6"
      },
      "execution_count": null,
      "outputs": []
    },
    {
      "cell_type": "code",
      "source": [
        "data.head(5)"
      ],
      "metadata": {
        "id": "1a4cI_ynbUEr"
      },
      "execution_count": null,
      "outputs": []
    },
    {
      "cell_type": "markdown",
      "source": [
        "#함수선언"
      ],
      "metadata": {
        "id": "36gF3-Y1aLYl"
      }
    },
    {
      "cell_type": "code",
      "source": [
        "## 전처리\n",
        "def eda(df):\n",
        "  df.drop(['index','Patient Id','Obesity','Alcohol use','Balanced Diet','Weight Loss','Clubbing of Finger Nails'], axis=1, inplace=True)\n",
        "  df['dangerous'] = np.where(df['Level'].str.contains('Medium|High'), 1,0).astype(int)\n",
        "  # df['Level'] = df['Level'].str.replace('Low', repl='0')\n",
        "  # df['Level'] = df['Level'].str.replace('Medium', repl='1')\n",
        "  # df['Level'] = df['Level'].str.replace('High', repl='2')\n",
        "  # df.Level = df.Level.astype(int)\n",
        "  agegrp=[]\n",
        "  for i in range(0, len(df.Age)):\n",
        "    if df.Age.iloc[i] < 20:\n",
        "      agegrp.append('teen')\n",
        "    elif df.Age.iloc[i] < 30:\n",
        "      agegrp.append('youth')\n",
        "    elif df.Age.iloc[i] < 40:\n",
        "      agegrp.append('middle')\n",
        "    elif df.Age.iloc[i] < 50:\n",
        "      agegrp.append('old')\n",
        "    else:\n",
        "      agegrp.append('very old')\n",
        "  df['agegrp'] = agegrp\n",
        "  \n",
        "  return df"
      ],
      "metadata": {
        "id": "favh6BakaP6r"
      },
      "execution_count": null,
      "outputs": []
    },
    {
      "cell_type": "code",
      "source": [
        "## 머신러닝 모델\n",
        "def model(X_train, y_train):\n",
        "  pipe = make_pipeline(\n",
        "      OrdinalEncoder(),\n",
        "      DecisionTreeClassifier(random_state=42)\n",
        "  )\n",
        "  pipe.fit(X_train, y_train)\n",
        "  return pipe"
      ],
      "metadata": {
        "id": "axOreqMlacjB"
      },
      "execution_count": null,
      "outputs": []
    },
    {
      "cell_type": "markdown",
      "source": [
        "#실행"
      ],
      "metadata": {
        "id": "IY_pHQ7GaO4A"
      }
    },
    {
      "cell_type": "code",
      "source": [
        "data_ = data.copy()"
      ],
      "metadata": {
        "id": "lfY6tKqZkZpO"
      },
      "execution_count": null,
      "outputs": []
    },
    {
      "cell_type": "code",
      "source": [
        "df = eda(data_)\n",
        "df.head(5)"
      ],
      "metadata": {
        "id": "o4BzlE49fq4b"
      },
      "execution_count": null,
      "outputs": []
    },
    {
      "cell_type": "code",
      "source": [
        "corr = df.corr() \n",
        "corr.style.background_gradient()"
      ],
      "metadata": {
        "id": "Qd_DGB4fgmZZ"
      },
      "execution_count": null,
      "outputs": []
    },
    {
      "cell_type": "code",
      "source": [
        "## 훈련/검증/테스트 split\n",
        "train, test = train_test_split(df, test_size=0.2, random_state=2)\n",
        "train, val = train_test_split(train, test_size=0.25, random_state=2)\n",
        "train.shape, val.shape, test.shape"
      ],
      "metadata": {
        "id": "CIjGqZ9i66a6"
      },
      "execution_count": null,
      "outputs": []
    },
    {
      "cell_type": "code",
      "source": [
        "target = 'Level'\n",
        "features = df.columns.drop(target)\n",
        "X_train = train[features]\n",
        "y_train = train[target]\n",
        "X_val = val[features]\n",
        "y_val = val[target]"
      ],
      "metadata": {
        "id": "5ji3W9Ne9Z5W"
      },
      "execution_count": null,
      "outputs": []
    },
    {
      "cell_type": "code",
      "source": [
        "model = model(X_train, y_train)\n",
        "print('검증 정확도: ', model.score(X_val, y_val))"
      ],
      "metadata": {
        "id": "orpPnXom7amx"
      },
      "execution_count": null,
      "outputs": []
    },
    {
      "cell_type": "code",
      "source": [
        "import graphviz\n",
        "from sklearn.tree import export_graphviz\n",
        "\n",
        "tree = model.named_steps['decisiontreeclassifier']\n",
        "\n",
        "dot_data = export_graphviz(\n",
        "    tree,\n",
        "    feature_names=X_train.columns, \n",
        "    class_names=y_train.unique().astype(str), \n",
        "    filled=True, \n",
        "    proportion=True\n",
        ")\n",
        "\n",
        "graphviz.Source(dot_data)"
      ],
      "metadata": {
        "id": "HtzkO4hj7U4D"
      },
      "execution_count": null,
      "outputs": []
    },
    {
      "cell_type": "code",
      "source": [
        "features = df.columns.drop([target,\n",
        "                            'dangerous',\n",
        "                            'Snoring',\n",
        "                            'Swallowing Difficulty',])\n",
        "X_train = train[features]\n",
        "y_train = train[target]\n",
        "X_val = val[features]\n",
        "y_val = val[target]\n",
        "\n",
        "pipe = make_pipeline(\n",
        "      OrdinalEncoder(),\n",
        "      DecisionTreeClassifier(max_depth=3, random_state=42)\n",
        "  )\n",
        "pipe.fit(X_train, y_train)\n",
        "\n",
        "print('검증 정확도: ', pipe.score(X_val, y_val))"
      ],
      "metadata": {
        "id": "7Q8HWcOjFaIE"
      },
      "execution_count": null,
      "outputs": []
    },
    {
      "cell_type": "code",
      "source": [
        "import graphviz\n",
        "from sklearn.tree import export_graphviz\n",
        "\n",
        "tree = pipe.named_steps['decisiontreeclassifier']\n",
        "\n",
        "dot_data = export_graphviz(\n",
        "    tree,\n",
        "    feature_names=X_train.columns, \n",
        "    class_names=y_train.unique().astype(str), \n",
        "    filled=True, \n",
        "    proportion=True\n",
        ")\n",
        "\n",
        "graphviz.Source(dot_data)"
      ],
      "metadata": {
        "id": "TAMNcMBDKIRG"
      },
      "execution_count": null,
      "outputs": []
    },
    {
      "cell_type": "code",
      "source": [
        "df[target].value_counts(normalize=True)"
      ],
      "metadata": {
        "id": "iJKLh8l0KqI9"
      },
      "execution_count": null,
      "outputs": []
    },
    {
      "cell_type": "code",
      "source": [
        "g = sns.FacetGrid(df, col=target)\n",
        "g.map(plt.hist, 'agegrp', bins=10, alpha=.5)"
      ],
      "metadata": {
        "id": "xzsWN3W1Yy02"
      },
      "execution_count": null,
      "outputs": []
    },
    {
      "cell_type": "code",
      "source": [
        "df['Level'] = df['Level'].str.replace('Low', repl='0')\n",
        "df['Level'] = df['Level'].str.replace('Medium', repl='1')\n",
        "df['Level'] = df['Level'].str.replace('High', repl='2')\n",
        "df.Level = df.Level.astype(int)"
      ],
      "metadata": {
        "id": "J8wrkbEaZb2-"
      },
      "execution_count": null,
      "outputs": []
    },
    {
      "cell_type": "code",
      "source": [
        "t = df[['agegrp', target]].groupby(['agegrp'], as_index=False).sum().sort_values(by=target, ascending=False)\n",
        "t.plot('agegrp', linewidth=4, marker='o')"
      ],
      "metadata": {
        "id": "Y5oDQJtaZaTK"
      },
      "execution_count": null,
      "outputs": []
    },
    {
      "cell_type": "code",
      "source": [
        "ap = df[['Air Pollution', target]].groupby(['Air Pollution'], as_index=False).mean().sort_values(by=target, ascending=False)\n",
        "ap.plot(x='Air Pollution' ,y='Level', linewidth=3, marker='o')"
      ],
      "metadata": {
        "id": "wZ1aPt4jXhSH"
      },
      "execution_count": null,
      "outputs": []
    },
    {
      "cell_type": "code",
      "source": [
        "ap.hist('Level', bins=8)"
      ],
      "metadata": {
        "id": "khWAViiVtyRy"
      },
      "execution_count": null,
      "outputs": []
    },
    {
      "cell_type": "code",
      "source": [
        "ap = df[['Gender', target]].groupby(['Gender'], as_index=False).mean().sort_values(by=target, ascending=False)\n",
        "ap.plot('Gender', linewidth=3, marker='o')"
      ],
      "metadata": {
        "id": "BqtQxTVikFKB"
      },
      "execution_count": null,
      "outputs": []
    },
    {
      "cell_type": "code",
      "source": [
        "df[['Air Pollution', target]].groupby(['Air Pollution'], as_index=False).mean().sort_values(by=target, ascending=False)"
      ],
      "metadata": {
        "id": "pYCxiNTcd8fi"
      },
      "execution_count": null,
      "outputs": []
    },
    {
      "cell_type": "code",
      "source": [
        "grid = sns.FacetGrid(df, col='dangerous', row='Air Pollution', hue=\"Air Pollution\", height=2, aspect=2)\n",
        "grid.map(plt.hist, target, alpha=.5, bins=20)\n",
        "grid.add_legend();"
      ],
      "metadata": {
        "id": "UXtKs864Z5-_"
      },
      "execution_count": null,
      "outputs": []
    },
    {
      "cell_type": "code",
      "source": [
        "df[['Air Pollution', target]].groupby(['Air Pollution'], as_index=False).describe()"
      ],
      "metadata": {
        "id": "XueekYn0gNDm"
      },
      "execution_count": null,
      "outputs": []
    },
    {
      "cell_type": "code",
      "source": [
        "df.drop('dangerous', axis=1, inplace=True)"
      ],
      "metadata": {
        "id": "1J65FHV1ldq9"
      },
      "execution_count": null,
      "outputs": []
    },
    {
      "cell_type": "code",
      "source": [
        "corr = df.corr(method='pearson')\n",
        "corr['Air Pollution'].sort_values(ascending=False)"
      ],
      "metadata": {
        "id": "4Yj9NQzLhuay"
      },
      "execution_count": null,
      "outputs": []
    },
    {
      "cell_type": "code",
      "source": [
        "corr = df.corr(method='pearson')\n",
        "corr[target].sort_values(ascending=False)"
      ],
      "metadata": {
        "id": "Q_M8NluojTeH"
      },
      "execution_count": null,
      "outputs": []
    }
  ]
}